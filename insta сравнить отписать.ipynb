{
 "cells": [
  {
   "cell_type": "code",
   "execution_count": 1,
   "id": "0e3266ba",
   "metadata": {},
   "outputs": [],
   "source": [
    "import pandas as pd"
   ]
  },
  {
   "cell_type": "code",
   "execution_count": 2,
   "id": "e354aacd",
   "metadata": {},
   "outputs": [],
   "source": [
    "subscriptions_df = pd.read_csv('Подписки.csv')"
   ]
  },
  {
   "cell_type": "code",
   "execution_count": 3,
   "id": "22a79476",
   "metadata": {},
   "outputs": [],
   "source": [
    "follower_df = pd.read_csv('Подписчмик.csv')"
   ]
  },
  {
   "cell_type": "code",
   "execution_count": null,
   "id": "718d6758",
   "metadata": {},
   "outputs": [],
   "source": [
    "subscriptions_df.head()"
   ]
  },
  {
   "cell_type": "code",
   "execution_count": 5,
   "id": "3cf047c4",
   "metadata": {},
   "outputs": [],
   "source": [
    "mergedStuff = pd.merge(subscriptions_df, follower_df, on=['Url'], how='inner')"
   ]
  },
  {
   "cell_type": "code",
   "execution_count": null,
   "id": "2ede54b7",
   "metadata": {},
   "outputs": [],
   "source": [
    "mergedStuff.head()"
   ]
  },
  {
   "cell_type": "code",
   "execution_count": 7,
   "id": "8cf56a15",
   "metadata": {},
   "outputs": [
    {
     "data": {
      "text/plain": [
       "0       True\n",
       "1       True\n",
       "2       True\n",
       "3       True\n",
       "4       True\n",
       "       ...  \n",
       "754    False\n",
       "755    False\n",
       "756    False\n",
       "757    False\n",
       "758    False\n",
       "Name: Url, Length: 759, dtype: bool"
      ]
     },
     "execution_count": 7,
     "metadata": {},
     "output_type": "execute_result"
    }
   ],
   "source": [
    "subscriptions_df['Url'].isin(follower_df['Url'])"
   ]
  },
  {
   "cell_type": "code",
   "execution_count": 8,
   "id": "e8ceaa53",
   "metadata": {},
   "outputs": [],
   "source": [
    "intersections=set(subscriptions_df['Url']).intersection(set(follower_df['Url']))"
   ]
  },
  {
   "cell_type": "code",
   "execution_count": 9,
   "id": "ed58ef78",
   "metadata": {},
   "outputs": [],
   "source": [
    "subscriptions=set(subscriptions_df['Url'])"
   ]
  },
  {
   "cell_type": "code",
   "execution_count": 10,
   "id": "c3a12188",
   "metadata": {},
   "outputs": [],
   "source": [
    "subscriptions.difference_update(intersections) "
   ]
  },
  {
   "cell_type": "code",
   "execution_count": null,
   "id": "f869d20e",
   "metadata": {},
   "outputs": [],
   "source": [
    "login=\"\"\n",
    "password=\"\""
   ]
  },
  {
   "cell_type": "code",
   "execution_count": 12,
   "id": "fce82a06",
   "metadata": {},
   "outputs": [],
   "source": [
    "import tempfile\n",
    "import shutil\n",
    "from pathlib import Path\n",
    "import os \n",
    "import re\n",
    "# import requests\n",
    "import random\n",
    "path = Path(tempfile.gettempdir() )\n",
    "for f in path.glob(\"scoped_dir*\"):\n",
    "    try:\n",
    "        shutil.rmtree(f)\n",
    "    except:\n",
    "        d=1\n",
    "for f in path.glob(\"_MEI*\"):\n",
    "    try:\n",
    "        shutil.rmtree(f)\n",
    "    except:\n",
    "        d=1\n",
    "    "
   ]
  },
  {
   "cell_type": "code",
   "execution_count": 13,
   "id": "3b1659ae",
   "metadata": {},
   "outputs": [
    {
     "name": "stderr",
     "output_type": "stream",
     "text": [
      "C:\\Users\\admin\\AppData\\Local\\Temp/ipykernel_3544/3040386233.py:13: DeprecationWarning: use options instead of chrome_options\n",
      "  driver = webdriver.Chrome(chrome_options=chrome_options)\n"
     ]
    }
   ],
   "source": [
    "\n",
    "from selenium import webdriver\n",
    "import time\n",
    "import pandas as pd\n",
    "from tqdm import tqdm\n",
    "from selenium.webdriver.common.keys import Keys\n",
    "from selenium.webdriver.common.by import By\n",
    "from selenium.webdriver.support.ui import WebDriverWait\n",
    "from selenium.webdriver.support import expected_conditions as EC\n",
    "from selenium.webdriver.common.action_chains import ActionChains\n",
    "chrome_options = webdriver.ChromeOptions()\n",
    "prefs = {\"profile.managed_default_content_settings.images\": 2}\n",
    "# chrome_options.add_experimental_option(\"prefs\", prefs)\n",
    "driver = webdriver.Chrome(chrome_options=chrome_options)\n",
    "driver.get('https://www.instagram.com/?hl=ru')\n",
    "\n",
    "time.sleep(3)\n",
    "driver.maximize_window()\n",
    "time.sleep(3)\n",
    "driver.find_element_by_xpath('//*[@id=\"loginForm\"]/div/div[1]/div/label/input').send_keys(login)\n",
    "time.sleep(3)\n",
    "driver.find_element_by_xpath('//*[@id=\"loginForm\"]/div/div[2]/div/label/input').send_keys(password)\n",
    "time.sleep(3)\n",
    "driver.find_element_by_xpath('//*[@id=\"loginForm\"]/div/div[3]/button/div').click()\n",
    "time.sleep(3)\n",
    "driver.find_element_by_xpath('//*[@id=\"react-root\"]/section/main/div/div/div/div/button').click()\n",
    "time.sleep(3)\n",
    "try:\n",
    "    driver.find_element_by_xpath('/html/body/div[6]/div/div/div/div[3]/button[2]').click()\n",
    "except:\n",
    "    driver.find_element_by_xpath('/html/body/div[5]/div/div/div/div[3]/button[2]').click()\n",
    "\n",
    "time.sleep(3)\n",
    "driver.find_element_by_xpath('//*[@id=\"react-root\"]/section/nav/div[2]/div/div/div[3]/div/div[5]/span').click()\n",
    "time.sleep(3)\n",
    "driver.find_element_by_xpath('//*[@id=\"react-root\"]/section/nav/div[2]/div/div/div[3]/div/div[5]/div[2]/div[2]/div[2]/a[1]/div').click()\n",
    "\n"
   ]
  },
  {
   "cell_type": "code",
   "execution_count": 14,
   "id": "c3d859d2",
   "metadata": {},
   "outputs": [],
   "source": [
    "time.sleep(3)\n",
    "driver.find_element_by_xpath('//*[@id=\"react-root\"]/section/main/div/header/section/ul/li[3]/a').click()"
   ]
  },
  {
   "cell_type": "code",
   "execution_count": 15,
   "id": "7f694019",
   "metadata": {},
   "outputs": [],
   "source": [
    "time.sleep(3)\n",
    "list=driver.find_element_by_class_name('PZuss')\n",
    "list1=list.find_elements_by_tag_name('li')\n",
    "while True: \n",
    "    q=len(list1)\n",
    "    try:\n",
    "        list1[q-1].location_once_scrolled_into_view\n",
    "    except:\n",
    "        d=1\n",
    "    time.sleep(5)\n",
    "    list1=list.find_elements_by_tag_name('li')\n",
    "    if q==len(list1):\n",
    "        break"
   ]
  },
  {
   "cell_type": "code",
   "execution_count": 16,
   "id": "8a13483e",
   "metadata": {},
   "outputs": [
    {
     "name": "stderr",
     "output_type": "stream",
     "text": [
      "100%|████████████████████████████████████████| 616/616 [04:04<00:00,  2.52it/s]\n"
     ]
    }
   ],
   "source": [
    "for l in tqdm(list1):\n",
    "    if l.text.split('\\n')[0] in subscriptions :\n",
    "        \n",
    "        l.location_once_scrolled_into_view\n",
    "        time.sleep(3)\n",
    "        try:\n",
    "            l.find_element_by_tag_name('button').click()\n",
    "            time.sleep(3)\n",
    "            driver.find_element_by_xpath('/html/body/div[7]/div/div/div/div[3]/button[1]').click()    \n",
    "        except:\n",
    "            d=1\n",
    "        time.sleep(3)\n"
   ]
  },
  {
   "cell_type": "code",
   "execution_count": 25,
   "id": "2b84da39",
   "metadata": {},
   "outputs": [],
   "source": [
    "Ul=[]\n",
    "Ul.extend(subscriptions)"
   ]
  },
  {
   "cell_type": "code",
   "execution_count": 26,
   "id": "b4dc944c",
   "metadata": {},
   "outputs": [],
   "source": [
    "columns=['Url']"
   ]
  },
  {
   "cell_type": "code",
   "execution_count": 27,
   "id": "37207597",
   "metadata": {},
   "outputs": [],
   "source": [
    "new_df = pd.DataFrame(Ul, columns=columns)\n",
    "new_df.to_csv('Черн.csv',mode='a', header=False, index=False)"
   ]
  },
  {
   "cell_type": "code",
   "execution_count": null,
   "id": "b9dc25aa",
   "metadata": {},
   "outputs": [],
   "source": []
  }
 ],
 "metadata": {
  "kernelspec": {
   "display_name": "Python 3 (ipykernel)",
   "language": "python",
   "name": "python3"
  },
  "language_info": {
   "codemirror_mode": {
    "name": "ipython",
    "version": 3
   },
   "file_extension": ".py",
   "mimetype": "text/x-python",
   "name": "python",
   "nbconvert_exporter": "python",
   "pygments_lexer": "ipython3",
   "version": "3.8.6"
  }
 },
 "nbformat": 4,
 "nbformat_minor": 5
}
