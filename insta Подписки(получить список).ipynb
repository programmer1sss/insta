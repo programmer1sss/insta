{
 "cells": [
  {
   "cell_type": "code",
   "execution_count": 15,
   "id": "0e3266ba",
   "metadata": {},
   "outputs": [],
   "source": [
    "import pandas as pd"
   ]
  },
  {
   "cell_type": "code",
   "execution_count": null,
   "id": "b9e4c0d4",
   "metadata": {},
   "outputs": [],
   "source": [
    "login=\"\"\n",
    "password=\"\""
   ]
  },
  {
   "cell_type": "code",
   "execution_count": 16,
   "id": "6c5a0949",
   "metadata": {},
   "outputs": [],
   "source": [
    "black_list=pd.read_csv('Черн.csv').head()"
   ]
  },
  {
   "cell_type": "code",
   "execution_count": 17,
   "id": "fce82a06",
   "metadata": {},
   "outputs": [],
   "source": [
    "import tempfile\n",
    "import shutil\n",
    "from pathlib import Path\n",
    "import os \n",
    "import re\n",
    "# import requests\n",
    "import random\n",
    "path = Path(tempfile.gettempdir() )\n",
    "for f in path.glob(\"scoped_dir*\"):\n",
    "    try:\n",
    "        shutil.rmtree(f)\n",
    "    except:\n",
    "        d=1\n",
    "for f in path.glob(\"_MEI*\"):\n",
    "    try:\n",
    "        shutil.rmtree(f)\n",
    "    except:\n",
    "        d=1\n",
    "    "
   ]
  },
  {
   "cell_type": "code",
   "execution_count": 18,
   "id": "3b1659ae",
   "metadata": {},
   "outputs": [
    {
     "name": "stderr",
     "output_type": "stream",
     "text": [
      "C:\\Users\\admin\\AppData\\Local\\Temp/ipykernel_4200/932301176.py:13: DeprecationWarning: use options instead of chrome_options\n",
      "  driver = webdriver.Chrome(chrome_options=chrome_options)\n"
     ]
    }
   ],
   "source": [
    "\n",
    "from selenium import webdriver\n",
    "import time\n",
    "import pandas as pd\n",
    "from tqdm import tqdm\n",
    "from selenium.webdriver.common.keys import Keys\n",
    "from selenium.webdriver.common.by import By\n",
    "from selenium.webdriver.support.ui import WebDriverWait\n",
    "from selenium.webdriver.support import expected_conditions as EC\n",
    "from selenium.webdriver.common.action_chains import ActionChains\n",
    "chrome_options = webdriver.ChromeOptions()\n",
    "prefs = {\"profile.managed_default_content_settings.images\": 2}\n",
    "# chrome_options.add_experimental_option(\"prefs\", prefs)\n",
    "driver = webdriver.Chrome(chrome_options=chrome_options)\n",
    "driver.get('https://www.instagram.com/?hl=ru')\n",
    "\n",
    "time.sleep(3)\n",
    "driver.maximize_window()\n",
    "time.sleep(3)\n",
    "driver.find_element_by_xpath('//*[@id=\"loginForm\"]/div/div[1]/div/label/input').send_keys(login)\n",
    "time.sleep(3)\n",
    "driver.find_element_by_xpath('//*[@id=\"loginForm\"]/div/div[2]/div/label/input').send_keys(password)\n",
    "time.sleep(3)\n",
    "driver.find_element_by_xpath('//*[@id=\"loginForm\"]/div/div[3]/button/div').click()\n",
    "time.sleep(3)\n",
    "driver.find_element_by_xpath('//*[@id=\"react-root\"]/section/main/div/div/div/div/button').click()\n",
    "time.sleep(3)\n",
    "try:\n",
    "    driver.find_element_by_xpath('/html/body/div[6]/div/div/div/div[3]/button[2]').click()\n",
    "except:\n",
    "    try:\n",
    "        driver.find_element_by_xpath('/html/body/div[5]/div/div/div/div[3]/button[2]').click()\n",
    "    except:\n",
    "        driver.find_element_by_xpath('/html/body/div[4]/div/div/div/div[3]/button[2]').click()\n",
    "\n",
    "time.sleep(3)\n",
    "driver.find_element_by_xpath('//*[@id=\"react-root\"]/section/nav/div[2]/div/div/div[3]/div/div[5]/span').click()\n",
    "time.sleep(3)\n",
    "driver.find_element_by_xpath('//*[@id=\"react-root\"]/section/nav/div[2]/div/div/div[3]/div/div[5]/div[2]/div[2]/div[2]/a[1]/div').click()\n",
    "\n"
   ]
  },
  {
   "cell_type": "code",
   "execution_count": 29,
   "id": "d764fdbb",
   "metadata": {},
   "outputs": [],
   "source": [
    "time.sleep(3)\n",
    "\n",
    "driver.find_element_by_xpath('//*[@id=\"react-root\"]/section/nav/div[2]/div/div/div[2]/input').send_keys(Keys.ENTER)\n",
    "time.sleep(3)\n",
    "\n",
    "driver.find_element_by_xpath('//*[@id=\"react-root\"]/section/nav/div[2]/div/div/div[2]/input').send_keys(Keys.ENTER)"
   ]
  },
  {
   "cell_type": "code",
   "execution_count": 30,
   "id": "ecbf46b5",
   "metadata": {},
   "outputs": [],
   "source": [
    "kaban=driver.find_elements_by_class_name(\"v1Nh3\")"
   ]
  },
  {
   "cell_type": "code",
   "execution_count": 26,
   "id": "6b814797",
   "metadata": {},
   "outputs": [
    {
     "data": {
      "text/plain": [
       "21"
      ]
     },
     "execution_count": 26,
     "metadata": {},
     "output_type": "execute_result"
    }
   ],
   "source": [
    "len(kaban)"
   ]
  },
  {
   "cell_type": "code",
   "execution_count": null,
   "id": "3823c36d",
   "metadata": {},
   "outputs": [],
   "source": [
    "kaban[1].get_attribute('innerHTML')"
   ]
  },
  {
   "cell_type": "code",
   "execution_count": 48,
   "id": "c82ce00a",
   "metadata": {},
   "outputs": [],
   "source": [
    "src =kaban[0].get_attribute('href')"
   ]
  },
  {
   "cell_type": "code",
   "execution_count": 51,
   "id": "da3b617a",
   "metadata": {},
   "outputs": [],
   "source": [
    "src = kaban[0].find_element_by_class_name(\"FFVAD\")"
   ]
  },
  {
   "cell_type": "code",
   "execution_count": null,
   "id": "a306a0d0",
   "metadata": {},
   "outputs": [],
   "source": [
    "src.get_attribute('src')"
   ]
  },
  {
   "cell_type": "code",
   "execution_count": 18,
   "id": "c3d859d2",
   "metadata": {},
   "outputs": [],
   "source": [
    "time.sleep(3)\n",
    "driver.find_element_by_xpath('//*[@id=\"react-root\"]/section/main/div/header/section/ul/li[3]/a').click()"
   ]
  },
  {
   "cell_type": "code",
   "execution_count": null,
   "id": "93b05991",
   "metadata": {},
   "outputs": [],
   "source": [
    "time.sleep(3)\n",
    "list=driver.find_element_by_class_name('PZuss')\n",
    "list1=list.find_elements_by_tag_name('li')\n",
    "while True: \n",
    "    q=len(list1)\n",
    "    try:\n",
    "        list1[q-1].location_once_scrolled_into_view\n",
    "    except:\n",
    "        d=1\n",
    "    time.sleep(5)\n",
    "    list1=list.find_elements_by_tag_name('li')\n",
    "    if q==len(list1):\n",
    "        break"
   ]
  },
  {
   "cell_type": "code",
   "execution_count": null,
   "id": "8a13483e",
   "metadata": {},
   "outputs": [],
   "source": [
    "for l in tqdm(list1):\n",
    "    if l.text.split('\\n')[0] in subscriptions :\n",
    "        \n",
    "        l.location_once_scrolled_into_view\n",
    "        time.sleep(3)\n",
    "        try:\n",
    "            l.find_element_by_tag_name('button').click()\n",
    "            time.sleep(3)\n",
    "            driver.find_element_by_xpath('/html/body/div[7]/div/div/div/div[3]/button[1]').click()    \n",
    "        except:\n",
    "            d=1\n",
    "        time.sleep(3)\n"
   ]
  },
  {
   "cell_type": "code",
   "execution_count": 25,
   "id": "2b84da39",
   "metadata": {},
   "outputs": [],
   "source": [
    "Ul=[]\n",
    "Ul.extend(subscriptions)"
   ]
  },
  {
   "cell_type": "code",
   "execution_count": 26,
   "id": "b4dc944c",
   "metadata": {},
   "outputs": [],
   "source": [
    "columns=['Url']"
   ]
  },
  {
   "cell_type": "code",
   "execution_count": 27,
   "id": "37207597",
   "metadata": {},
   "outputs": [],
   "source": [
    "new_df = pd.DataFrame(Ul, columns=columns)\n",
    "new_df.to_csv('Черн.csv',mode='a', header=False, index=False)"
   ]
  }
 ],
 "metadata": {
  "kernelspec": {
   "display_name": "Python 3 (ipykernel)",
   "language": "python",
   "name": "python3"
  },
  "language_info": {
   "codemirror_mode": {
    "name": "ipython",
    "version": 3
   },
   "file_extension": ".py",
   "mimetype": "text/x-python",
   "name": "python",
   "nbconvert_exporter": "python",
   "pygments_lexer": "ipython3",
   "version": "3.8.6"
  }
 },
 "nbformat": 4,
 "nbformat_minor": 5
}
